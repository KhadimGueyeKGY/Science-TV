{
 "cells": [
  {
   "cell_type": "markdown",
   "metadata": {},
   "source": [
    "# Dic List , tupe"
   ]
  },
  {
   "cell_type": "markdown",
   "metadata": {},
   "source": [
    "## liste"
   ]
  },
  {
   "cell_type": "code",
   "execution_count": 6,
   "metadata": {},
   "outputs": [
    {
     "data": {
      "text/plain": [
       "['CTAGCTAGCCGTAGCTA', 'GATCGATCCCGATCGATA']"
      ]
     },
     "execution_count": 6,
     "metadata": {},
     "output_type": "execute_result"
    }
   ],
   "source": [
    "# Exemple d'utilisation d'une liste pour stocker des séquences ADN\n",
    "\n",
    "sequences_ADN = [\"ATCGATCGCCGATCGTACGT\", \"CTAGCTAGCCGTAGCTA\", \"GATCGATCCCGATCGATA\"]\n",
    "sequences_ADN[1:]"
   ]
  },
  {
   "cell_type": "markdown",
   "metadata": {},
   "source": [
    "## tuple"
   ]
  },
  {
   "cell_type": "code",
   "execution_count": 9,
   "metadata": {},
   "outputs": [
    {
     "data": {
      "text/plain": [
       "(0.05, 0.92, 0.74)"
      ]
     },
     "execution_count": 9,
     "metadata": {},
     "output_type": "execute_result"
    }
   ],
   "source": [
    "# Exemple d'utilisation d'un tuple pour stocker les résultats d'une expérience\n",
    "resultats_experimentation = (0.05, 0.92, 0.74, 0.23, 1.15)\n",
    "resultats_experimentation[:3]"
   ]
  },
  {
   "cell_type": "markdown",
   "metadata": {},
   "source": [
    "## dictionnaire"
   ]
  },
  {
   "cell_type": "code",
   "execution_count": 12,
   "metadata": {},
   "outputs": [
    {
     "data": {
      "text/plain": [
       "'GATCGATCCCGGATCGGGCTGATTCTGATCGTACGTCTAG'"
      ]
     },
     "execution_count": 12,
     "metadata": {},
     "output_type": "execute_result"
    }
   ],
   "source": [
    "# Exemple d'utilisation d'un dictionnaire pour stocker les données d'une famille\n",
    "\n",
    "annotation_genes = {\n",
    "    \"dad\": \"CTAGCTAGAGTCGGGCTGATCCGGTAGCTTGATCGTAGCT\",\n",
    "    \"mum\": \"ATCGATCGCCAGATCGGCAGTCGTACCCGTAGGCTAGCTC\",\n",
    "    \"child\": \"GATCGATCCCGGATCGGGCTGATTCTGATCGTACGTCTAG\"\n",
    "}\n",
    "\n",
    "annotation_genes['child']"
   ]
  },
  {
   "cell_type": "markdown",
   "metadata": {},
   "source": [
    "## IF"
   ]
  },
  {
   "cell_type": "code",
   "execution_count": 14,
   "metadata": {},
   "outputs": [
    {
     "name": "stdout",
     "output_type": "stream",
     "text": [
      "motif2 in sequence_ADN\n"
     ]
    }
   ],
   "source": [
    "# Séquence d'ADN pour l'exemple\n",
    "sequence_ADN = \"ATCGATCGAGTCTAGCTAGCTAGACCTAGATCGTTAGCTAAGTCTAGCAGTTTAGCTAGACTCAGATCAGGGCTTAGCTAGCTCAGGCTAGTCAGTACAGTCAGCATCGTACGATCAGTACAGCTATTTTCGATATCTGCCGCTTAGGCGTA\"\n",
    "\n",
    "# Motif à vérifier dans la séquence\n",
    "motif = \"AGTCTAGGGGG\"\n",
    "motif2 = 'AGTCTA'\n",
    "\n",
    "if motif in sequence_ADN:\n",
    "    print('touvé')\n",
    "elif motif2 in sequence_ADN:\n",
    "    print('motif2 in sequence_ADN')\n",
    "else:\n",
    "    print('non trouvé')"
   ]
  },
  {
   "cell_type": "markdown",
   "metadata": {},
   "source": [
    "## for"
   ]
  },
  {
   "cell_type": "code",
   "execution_count": 15,
   "metadata": {},
   "outputs": [
    {
     "name": "stdout",
     "output_type": "stream",
     "text": [
      "Le motif AGTCTAGGGGG n'a pas été trouvé dans la séquence.\n"
     ]
    }
   ],
   "source": [
    "# Vérification du motif dans la séquence à l'aide d'une boucle for\n",
    "motif_trouve = False\n",
    "for i in range(len(sequence_ADN) - len(motif) + 1):\n",
    "    if sequence_ADN[i:i + len(motif)] == motif:\n",
    "        print(f\"Le motif {motif} a été trouvé à la position {i} dans la séquence.\")\n",
    "        #print(\"Le motif \"+motif+\" a été trouvé à la position \"+str(i)+\" dans la séquence.\")\n",
    "        motif_trouve = True\n",
    "        break\n",
    "        \n",
    "if not motif_trouve:\n",
    "    print(f\"Le motif {motif} n'a pas été trouvé dans la séquence.\")"
   ]
  },
  {
   "cell_type": "markdown",
   "metadata": {},
   "source": [
    "## while"
   ]
  },
  {
   "cell_type": "code",
   "execution_count": 18,
   "metadata": {},
   "outputs": [
    {
     "name": "stdout",
     "output_type": "stream",
     "text": [
      "Il y a 42 occurrence(s) du nucléotide 'T' dans la séquence ADN.\n"
     ]
    }
   ],
   "source": [
    "# Utilisation d'une boucle while pour compter les occurrences d'un nucléotide spécifique\n",
    "nucleotide = 'T'\n",
    "count = 0\n",
    "index = 0\n",
    "\n",
    "while index < len(sequence_ADN):\n",
    "    if sequence_ADN[index] == nucleotide:\n",
    "        count += 1\n",
    "    index += 1\n",
    "\n",
    "print(f\"Il y a {count} occurrence(s) du nucléotide '{nucleotide}' dans la séquence ADN.\")"
   ]
  },
  {
   "cell_type": "code",
   "execution_count": 19,
   "metadata": {},
   "outputs": [
    {
     "data": {
      "text/plain": [
       "range(0, 10)"
      ]
     },
     "execution_count": 19,
     "metadata": {},
     "output_type": "execute_result"
    }
   ],
   "source": [
    "range(10)"
   ]
  },
  {
   "cell_type": "markdown",
   "metadata": {},
   "source": [
    "# Introduction à la Manipulation de Fichiers\n"
   ]
  },
  {
   "cell_type": "markdown",
   "metadata": {},
   "source": [
    "## Ouverture et Fermeture de Fichiers"
   ]
  },
  {
   "cell_type": "code",
   "execution_count": 4,
   "metadata": {},
   "outputs": [
    {
     "name": "stdout",
     "output_type": "stream",
     "text": [
      ">ENA|CS557055|CS557055.1 Sequence 7567 from Patent EP1777233.\n",
      ">ENA|CS550965|CS550965.1 Sequence 1477 from Patent EP1777233.\n",
      ">ENA|BZ564535|BZ564535.1 pacs2-164_4796.x1 pacs2-164 Pseudomonas aeruginosa genomic clone pacs2-164_4796, genomic survey sequence.\n",
      ">ENA|DD119396|DD119396.1 STAPHYLOCOCCUS AUREUS PROTEINS AND NUCLEIC ACIDS.\n",
      ">ENA|HA167976|HA167976.1 Sequence 8631 from Patent WO2005014857.\n",
      ">ENA|BZ549812|BZ549812.1 pacs1-60_2357.x1 pacs1-60 Pseudomonas aeruginosa genomic clone pacs1-60_2357, genomic survey sequence.\n",
      ">ENA|CZ291017|CZ291017.1 cp73c05.r Candida parapsilosis Random Genomic Library Candida parapsilosis genomic clone cp73c05, genomic survey sequence.\n"
     ]
    }
   ],
   "source": [
    "fichier= open ('ena_data.fasta','r').read().split('\\n')\n",
    "for i in fichier:\n",
    "    if '>' not in i: \n",
    "        print(i)"
   ]
  },
  {
   "cell_type": "code",
   "execution_count": 14,
   "metadata": {},
   "outputs": [
    {
     "name": "stdout",
     "output_type": "stream",
     "text": [
      ">ENA|CS557055|CS557055.1 Sequence 7567 from Patent EP1777233.\n",
      "\n",
      ">ENA|CS550965|CS550965.1 Sequence 1477 from Patent EP1777233.\n",
      "\n",
      ">ENA|BZ564535|BZ564535.1 pacs2-164_4796.x1 pacs2-164 Pseudomonas aeruginosa genomic clone pacs2-164_4796, genomic survey sequence.\n",
      "\n",
      ">ENA|DD119396|DD119396.1 STAPHYLOCOCCUS AUREUS PROTEINS AND NUCLEIC ACIDS.\n",
      "\n",
      ">ENA|HA167976|HA167976.1 Sequence 8631 from Patent WO2005014857.\n",
      "\n",
      ">ENA|BZ549812|BZ549812.1 pacs1-60_2357.x1 pacs1-60 Pseudomonas aeruginosa genomic clone pacs1-60_2357, genomic survey sequence.\n",
      "\n",
      ">ENA|CZ291017|CZ291017.1 cp73c05.r Candida parapsilosis Random Genomic Library Candida parapsilosis genomic clone cp73c05, genomic survey sequence.\n",
      "\n"
     ]
    }
   ],
   "source": [
    "with open ('ena_data.fasta','r') as fichier : \n",
    "    fichier_contenu = fichier.readlines()\n",
    "for i in fichier_contenu:\n",
    "    if i.find('>') == -1: \n",
    "        print(i)"
   ]
  },
  {
   "cell_type": "markdown",
   "metadata": {},
   "source": [
    "## Lecture et Écriture de Fichiers"
   ]
  },
  {
   "cell_type": "code",
   "execution_count": 22,
   "metadata": {},
   "outputs": [],
   "source": [
    "output = open('ena_data_output.fasta','a')\n",
    "for i in fichier_contenu:\n",
    "    if '>' in i: \n",
    "        output.write(i)\n",
    "\n",
    "\n",
    "output.write('AAACCTTCGGGATCGGCTAGCTTGACT')\n",
    "output.close()"
   ]
  },
  {
   "cell_type": "code",
   "execution_count": 23,
   "metadata": {},
   "outputs": [],
   "source": [
    "with open('ena_data_output.fasta','w') as output:\n",
    "    for i in fichier_contenu:\n",
    "        if '>' in i: \n",
    "            output.write(i)\n"
   ]
  },
  {
   "cell_type": "markdown",
   "metadata": {},
   "source": [
    "## Gestion des Erreurs lors de la Manipulation de Fichiers\n"
   ]
  },
  {
   "cell_type": "code",
   "execution_count": 32,
   "metadata": {},
   "outputs": [
    {
     "name": "stdout",
     "output_type": "stream",
     "text": [
      "[Errno 2] No such file or directory: 'ena_data1.fasta'\n",
      "done\n"
     ]
    }
   ],
   "source": [
    "try:\n",
    "    fichier= open ('ena_data1.fasta','r').read().split('\\n')\n",
    "    for i in fichier:\n",
    "        if '>'  in i: \n",
    "            print(i)\n",
    "except FileNotFoundError as e:\n",
    "    print(e)\n",
    "print('done')"
   ]
  },
  {
   "cell_type": "code",
   "execution_count": 31,
   "metadata": {},
   "outputs": [
    {
     "ename": "FileNotFoundError",
     "evalue": "[Errno 2] No such file or directory: 'ena_data1.fasta'",
     "output_type": "error",
     "traceback": [
      "\u001b[1;31m---------------------------------------------------------------------------\u001b[0m",
      "\u001b[1;31mFileNotFoundError\u001b[0m                         Traceback (most recent call last)",
      "Cell \u001b[1;32mIn[31], line 1\u001b[0m\n\u001b[1;32m----> 1\u001b[0m fichier\u001b[38;5;241m=\u001b[39m \u001b[38;5;28;43mopen\u001b[39;49m\u001b[43m \u001b[49m\u001b[43m(\u001b[49m\u001b[38;5;124;43m'\u001b[39;49m\u001b[38;5;124;43mena_data1.fasta\u001b[39;49m\u001b[38;5;124;43m'\u001b[39;49m\u001b[43m,\u001b[49m\u001b[38;5;124;43m'\u001b[39;49m\u001b[38;5;124;43mr\u001b[39;49m\u001b[38;5;124;43m'\u001b[39;49m\u001b[43m)\u001b[49m\u001b[38;5;241m.\u001b[39mread()\u001b[38;5;241m.\u001b[39msplit(\u001b[38;5;124m'\u001b[39m\u001b[38;5;130;01m\\n\u001b[39;00m\u001b[38;5;124m'\u001b[39m)\n\u001b[0;32m      2\u001b[0m \u001b[38;5;28;01mfor\u001b[39;00m i \u001b[38;5;129;01min\u001b[39;00m fichier:\n\u001b[0;32m      3\u001b[0m     \u001b[38;5;28;01mif\u001b[39;00m \u001b[38;5;124m'\u001b[39m\u001b[38;5;124m>\u001b[39m\u001b[38;5;124m'\u001b[39m  \u001b[38;5;129;01min\u001b[39;00m i: \n",
      "File \u001b[1;32m~\\anaconda3\\lib\\site-packages\\IPython\\core\\interactiveshell.py:286\u001b[0m, in \u001b[0;36m_modified_open\u001b[1;34m(file, *args, **kwargs)\u001b[0m\n\u001b[0;32m    279\u001b[0m \u001b[38;5;28;01mif\u001b[39;00m file \u001b[38;5;129;01min\u001b[39;00m {\u001b[38;5;241m0\u001b[39m, \u001b[38;5;241m1\u001b[39m, \u001b[38;5;241m2\u001b[39m}:\n\u001b[0;32m    280\u001b[0m     \u001b[38;5;28;01mraise\u001b[39;00m \u001b[38;5;167;01mValueError\u001b[39;00m(\n\u001b[0;32m    281\u001b[0m         \u001b[38;5;124mf\u001b[39m\u001b[38;5;124m\"\u001b[39m\u001b[38;5;124mIPython won\u001b[39m\u001b[38;5;124m'\u001b[39m\u001b[38;5;124mt let you open fd=\u001b[39m\u001b[38;5;132;01m{\u001b[39;00mfile\u001b[38;5;132;01m}\u001b[39;00m\u001b[38;5;124m by default \u001b[39m\u001b[38;5;124m\"\u001b[39m\n\u001b[0;32m    282\u001b[0m         \u001b[38;5;124m\"\u001b[39m\u001b[38;5;124mas it is likely to crash IPython. If you know what you are doing, \u001b[39m\u001b[38;5;124m\"\u001b[39m\n\u001b[0;32m    283\u001b[0m         \u001b[38;5;124m\"\u001b[39m\u001b[38;5;124myou can use builtins\u001b[39m\u001b[38;5;124m'\u001b[39m\u001b[38;5;124m open.\u001b[39m\u001b[38;5;124m\"\u001b[39m\n\u001b[0;32m    284\u001b[0m     )\n\u001b[1;32m--> 286\u001b[0m \u001b[38;5;28;01mreturn\u001b[39;00m io_open(file, \u001b[38;5;241m*\u001b[39margs, \u001b[38;5;241m*\u001b[39m\u001b[38;5;241m*\u001b[39mkwargs)\n",
      "\u001b[1;31mFileNotFoundError\u001b[0m: [Errno 2] No such file or directory: 'ena_data1.fasta'"
     ]
    }
   ],
   "source": [
    "fichier= open ('ena_data1.fasta','r').read().split('\\n')\n",
    "for i in fichier:\n",
    "    if '>'  in i: \n",
    "        print(i)\n",
    "\n",
    "print('done')"
   ]
  },
  {
   "cell_type": "code",
   "execution_count": null,
   "metadata": {},
   "outputs": [],
   "source": []
  }
 ],
 "metadata": {
  "kernelspec": {
   "display_name": "Python 3 (ipykernel)",
   "language": "python",
   "name": "python3"
  },
  "language_info": {
   "codemirror_mode": {
    "name": "ipython",
    "version": 3
   },
   "file_extension": ".py",
   "mimetype": "text/x-python",
   "name": "python",
   "nbconvert_exporter": "python",
   "pygments_lexer": "ipython3",
   "version": "3.9.18"
  }
 },
 "nbformat": 4,
 "nbformat_minor": 2
}
