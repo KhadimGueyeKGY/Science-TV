{
 "cells": [
  {
   "cell_type": "markdown",
   "metadata": {},
   "source": [
    "# Dic List , tupe"
   ]
  },
  {
   "cell_type": "markdown",
   "metadata": {},
   "source": [
    "## liste"
   ]
  },
  {
   "cell_type": "code",
   "execution_count": 6,
   "metadata": {},
   "outputs": [
    {
     "data": {
      "text/plain": [
       "['CTAGCTAGCCGTAGCTA', 'GATCGATCCCGATCGATA']"
      ]
     },
     "execution_count": 6,
     "metadata": {},
     "output_type": "execute_result"
    }
   ],
   "source": [
    "# Exemple d'utilisation d'une liste pour stocker des séquences ADN\n",
    "\n",
    "sequences_ADN = [\"ATCGATCGCCGATCGTACGT\", \"CTAGCTAGCCGTAGCTA\", \"GATCGATCCCGATCGATA\"]\n",
    "sequences_ADN[1:]"
   ]
  },
  {
   "cell_type": "markdown",
   "metadata": {},
   "source": [
    "## tuple"
   ]
  },
  {
   "cell_type": "code",
   "execution_count": 9,
   "metadata": {},
   "outputs": [
    {
     "data": {
      "text/plain": [
       "(0.05, 0.92, 0.74)"
      ]
     },
     "execution_count": 9,
     "metadata": {},
     "output_type": "execute_result"
    }
   ],
   "source": [
    "# Exemple d'utilisation d'un tuple pour stocker les résultats d'une expérience\n",
    "resultats_experimentation = (0.05, 0.92, 0.74, 0.23, 1.15)\n",
    "resultats_experimentation[:3]"
   ]
  },
  {
   "cell_type": "markdown",
   "metadata": {},
   "source": [
    "## dictionnaire"
   ]
  },
  {
   "cell_type": "code",
   "execution_count": 12,
   "metadata": {},
   "outputs": [
    {
     "data": {
      "text/plain": [
       "'GATCGATCCCGGATCGGGCTGATTCTGATCGTACGTCTAG'"
      ]
     },
     "execution_count": 12,
     "metadata": {},
     "output_type": "execute_result"
    }
   ],
   "source": [
    "# Exemple d'utilisation d'un dictionnaire pour stocker les données d'une famille\n",
    "\n",
    "annotation_genes = {\n",
    "    \"dad\": \"CTAGCTAGAGTCGGGCTGATCCGGTAGCTTGATCGTAGCT\",\n",
    "    \"mum\": \"ATCGATCGCCAGATCGGCAGTCGTACCCGTAGGCTAGCTC\",\n",
    "    \"child\": \"GATCGATCCCGGATCGGGCTGATTCTGATCGTACGTCTAG\"\n",
    "}\n",
    "\n",
    "annotation_genes['child']"
   ]
  },
  {
   "cell_type": "markdown",
   "metadata": {},
   "source": [
    "## IF"
   ]
  },
  {
   "cell_type": "code",
   "execution_count": 14,
   "metadata": {},
   "outputs": [
    {
     "name": "stdout",
     "output_type": "stream",
     "text": [
      "motif2 in sequence_ADN\n"
     ]
    }
   ],
   "source": [
    "# Séquence d'ADN pour l'exemple\n",
    "sequence_ADN = \"ATCGATCGAGTCTAGCTAGCTAGACCTAGATCGTTAGCTAAGTCTAGCAGTTTAGCTAGACTCAGATCAGGGCTTAGCTAGCTCAGGCTAGTCAGTACAGTCAGCATCGTACGATCAGTACAGCTATTTTCGATATCTGCCGCTTAGGCGTA\"\n",
    "\n",
    "# Motif à vérifier dans la séquence\n",
    "motif = \"AGTCTAGGGGG\"\n",
    "motif2 = 'AGTCTA'\n",
    "\n",
    "if motif in sequence_ADN:\n",
    "    print('touvé')\n",
    "elif motif2 in sequence_ADN:\n",
    "    print('motif2 in sequence_ADN')\n",
    "else:\n",
    "    print('non trouvé')"
   ]
  },
  {
   "cell_type": "markdown",
   "metadata": {},
   "source": [
    "## for"
   ]
  },
  {
   "cell_type": "code",
   "execution_count": 15,
   "metadata": {},
   "outputs": [
    {
     "name": "stdout",
     "output_type": "stream",
     "text": [
      "Le motif AGTCTAGGGGG n'a pas été trouvé dans la séquence.\n"
     ]
    }
   ],
   "source": [
    "# Vérification du motif dans la séquence à l'aide d'une boucle for\n",
    "motif_trouve = False\n",
    "for i in range(len(sequence_ADN) - len(motif) + 1):\n",
    "    if sequence_ADN[i:i + len(motif)] == motif:\n",
    "        print(f\"Le motif {motif} a été trouvé à la position {i} dans la séquence.\")\n",
    "        #print(\"Le motif \"+motif+\" a été trouvé à la position \"+str(i)+\" dans la séquence.\")\n",
    "        motif_trouve = True\n",
    "        break\n",
    "        \n",
    "if not motif_trouve:\n",
    "    print(f\"Le motif {motif} n'a pas été trouvé dans la séquence.\")"
   ]
  },
  {
   "cell_type": "markdown",
   "metadata": {},
   "source": [
    "## while"
   ]
  },
  {
   "cell_type": "code",
   "execution_count": 18,
   "metadata": {},
   "outputs": [
    {
     "name": "stdout",
     "output_type": "stream",
     "text": [
      "Il y a 42 occurrence(s) du nucléotide 'T' dans la séquence ADN.\n"
     ]
    }
   ],
   "source": [
    "# Utilisation d'une boucle while pour compter les occurrences d'un nucléotide spécifique\n",
    "nucleotide = 'T'\n",
    "count = 0\n",
    "index = 0\n",
    "\n",
    "while index < len(sequence_ADN):\n",
    "    if sequence_ADN[index] == nucleotide:\n",
    "        count += 1\n",
    "    index += 1\n",
    "\n",
    "print(f\"Il y a {count} occurrence(s) du nucléotide '{nucleotide}' dans la séquence ADN.\")"
   ]
  },
  {
   "cell_type": "code",
   "execution_count": 19,
   "metadata": {},
   "outputs": [
    {
     "data": {
      "text/plain": [
       "range(0, 10)"
      ]
     },
     "execution_count": 19,
     "metadata": {},
     "output_type": "execute_result"
    }
   ],
   "source": [
    "range(10)"
   ]
  }
 ],
 "metadata": {
  "kernelspec": {
   "display_name": "Python 3 (ipykernel)",
   "language": "python",
   "name": "python3"
  },
  "language_info": {
   "codemirror_mode": {
    "name": "ipython",
    "version": 3
   },
   "file_extension": ".py",
   "mimetype": "text/x-python",
   "name": "python",
   "nbconvert_exporter": "python",
   "pygments_lexer": "ipython3",
   "version": "3.9.18"
  }
 },
 "nbformat": 4,
 "nbformat_minor": 2
}
